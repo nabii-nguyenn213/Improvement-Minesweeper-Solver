{
 "cells": [
  {
   "cell_type": "code",
   "execution_count": 1,
   "id": "d98a079b",
   "metadata": {},
   "outputs": [],
   "source": [
    "import numpy as np"
   ]
  },
  {
   "cell_type": "code",
   "execution_count": 3,
   "id": "55581b3d",
   "metadata": {},
   "outputs": [],
   "source": [
    "board = np.array([\n",
    "    [-0.5, -0.5, -0.5, -0.5, -0.5, -0.5, -0.5, -0.5, -0.5],\n",
    "    [-0.5, -0.5, -0.5, -0.5, -0.5, -0.5, -0.5, -0.5, -0.5],\n",
    "    [-0.5, -0.5, -0.5, -0.5, -0.5, -0.5, -0.5, -0.5, -0.5],\n",
    "    [-0.5, -0.5, -0.5, -0.5, -0.5, -0.5, -0.5, -0.5, -0.5],\n",
    "    [-0.5, -0.5, -0.5, -0.5, -0.5, -0.5, -0.5, -0.5, -0.5],\n",
    "    [ 0.0,  0.0,  0.0,  0.0,  0.0,  0.0,  0.0,  0.0,  0.0],\n",
    "    [ 0.0,  0.0,  0.0,  0.0,  0.0,  0.0,  1.0,  1.0,  1.0],\n",
    "    [ 0.0,  0.0,  0.0,  0.0,  0.0,  0.0,  1.0, -0.5,  1.0],\n",
    "    [ 0.0,  0.0,  0.0,  0.0,  0.0,  0.0,  1.0,  1.0,  1.0],\n",
    "], dtype=float)\n"
   ]
  },
  {
   "cell_type": "code",
   "execution_count": 24,
   "id": "bdb012ed",
   "metadata": {},
   "outputs": [],
   "source": [
    "def solve(current_board):\n",
    "    # Add a 1-cell border filled with 10\n",
    "    padded = np.pad(current_board, pad_width=((1, 1), (1, 1)),\n",
    "                    mode='constant', constant_values=10)\n",
    "\n",
    "    H, W = padded.shape\n",
    "    # Number of valid 3×3 regions (excluding the border centers)\n",
    "    num_regions = (H - 2) * (W - 2)\n",
    "\n",
    "    extract_board = np.zeros((3, 3, num_regions))\n",
    "\n",
    "    idx = 0\n",
    "    for i in range(1, H - 1): \n",
    "        for j in range(1, W - 1):\n",
    "            region = padded[i-1:i+2, j-1:j+2]\n",
    "            extract_board[:, :, idx] = region\n",
    "            idx += 1\n",
    "\n",
    "    return extract_board\n"
   ]
  },
  {
   "cell_type": "code",
   "execution_count": 26,
   "id": "fd85f872",
   "metadata": {},
   "outputs": [
    {
     "name": "stdout",
     "output_type": "stream",
     "text": [
      "[[10.  10.  10. ]\n",
      " [10.  -0.5 -0.5]\n",
      " [10.  -0.5 -0.5]]\n",
      "(3, 3, 81)\n"
     ]
    }
   ],
   "source": [
    "extract = solve(current_board=board)\n",
    "print(extract[:, :, 0])\n",
    "print(extract.shape)"
   ]
  },
  {
   "cell_type": "code",
   "execution_count": 54,
   "id": "b7295ae0",
   "metadata": {},
   "outputs": [],
   "source": [
    "def apply_heuristic(extract): \n",
    "    # return true if can apply, false if cannot apply\n",
    "    out = []\n",
    "    num_board = extract.shape[-1]\n",
    "    for i in range(num_board): \n",
    "        ex = extract[:, :, i]\n",
    "        out.append(np.unique(np.logical_or(ex == -0.5, ex == 10)).size == 1)\n",
    "    out = np.array(out).astype(int)\n",
    "    return out ^ 1"
   ]
  },
  {
   "cell_type": "code",
   "execution_count": 55,
   "id": "1ecaac6d",
   "metadata": {},
   "outputs": [
    {
     "data": {
      "text/plain": [
       "81"
      ]
     },
     "execution_count": 55,
     "metadata": {},
     "output_type": "execute_result"
    }
   ],
   "source": [
    "fil = apply_heuristic(extract)\n",
    "len(fil)"
   ]
  },
  {
   "cell_type": "code",
   "execution_count": 63,
   "id": "8ba998b9",
   "metadata": {},
   "outputs": [
    {
     "name": "stdout",
     "output_type": "stream",
     "text": [
      "1\n"
     ]
    },
    {
     "data": {
      "text/plain": [
       "array([[-0.5, -0.5, -0.5],\n",
       "       [-0.5, -0.5, -0.5],\n",
       "       [ 0. ,  0. ,  0. ]])"
      ]
     },
     "execution_count": 63,
     "metadata": {},
     "output_type": "execute_result"
    }
   ],
   "source": [
    "rand_idx = np.random.randint(0, 82)\n",
    "print(fil[rand_idx])\n",
    "extract[:, :, rand_idx]"
   ]
  },
  {
   "cell_type": "code",
   "execution_count": null,
   "id": "cc002108",
   "metadata": {},
   "outputs": [],
   "source": [
    "def solve(extract) : \n",
    "    num_board = extract.shape[-1]\n",
    "    for i in range(num_board): \n",
    "        ex = extract[:, :, i]\n",
    "        if (np.unique(np.logical_or(ex == -0.5, ex == 10)).size == 1) : \n",
    "            # no need to check for apply heuristic\n",
    "            pass\n",
    "        else : \n",
    "            # can check for apply heuristic\n",
    "            if np.sum(ex < 0) == ex[1, 1]: \n",
    "                # can find safe cell\n",
    "                pass\n",
    "            else : \n",
    "                pass"
   ]
  }
 ],
 "metadata": {
  "kernelspec": {
   "display_name": "minesweeper",
   "language": "python",
   "name": "python3"
  },
  "language_info": {
   "codemirror_mode": {
    "name": "ipython",
    "version": 3
   },
   "file_extension": ".py",
   "mimetype": "text/x-python",
   "name": "python",
   "nbconvert_exporter": "python",
   "pygments_lexer": "ipython3",
   "version": "3.10.18"
  }
 },
 "nbformat": 4,
 "nbformat_minor": 5
}
